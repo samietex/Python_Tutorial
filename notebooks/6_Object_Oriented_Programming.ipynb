{
  "nbformat": 4,
  "nbformat_minor": 0,
  "metadata": {
    "colab": {
      "provenance": []
    },
    "kernelspec": {
      "name": "python3",
      "display_name": "Python 3"
    },
    "language_info": {
      "name": "python"
    }
  },
  "cells": [
    {
      "cell_type": "markdown",
      "source": [
        "## OOP\n",
        "\n",
        "### Creating A Class\n",
        "\n",
        "Let's start by creating a wizard game"
      ],
      "metadata": {
        "id": "EHW3aXe6qNjS"
      }
    },
    {
      "cell_type": "code",
      "execution_count": null,
      "metadata": {
        "colab": {
          "base_uri": "https://localhost:8080/"
        },
        "id": "2fDDabd3qIul",
        "outputId": "d621a73c-2584-401f-a672-4985fd2db64b"
      },
      "outputs": [
        {
          "output_type": "stream",
          "name": "stdout",
          "text": [
            "Harry is running in the game.\n",
            "Hermione is running in the game.\n",
            "Harry casts Expelliarmus!\n",
            "Hermione casts Alohomora!\n",
            "Harry took 30 damage. Current health: 70\n",
            "Hermione took 20 damage. Current health: 80\n",
            "Harry heals for 10 health. Current health: 80\n",
            "Hermione heals for 25 health. Current health: 105\n"
          ]
        }
      ],
      "source": [
        "# Define the Player class\n",
        "class Player:\n",
        "\n",
        "    def __init__(self, name):    # Constructor (initialization) method for the Player class\n",
        "        self.name = name  # Create an instance variable 'name' and assign it the value passed as 'name'\n",
        "        self.health = 100  # Initialize the player's health to 100\n",
        "\n",
        "    # Method to make the player run\n",
        "    def run(self):      # Abstract method\n",
        "        # Print a message indicating that the player is running\n",
        "        print(f\"{self.name} is running in the game.\")\n",
        "\n",
        "    # Method for the player to cast a spell\n",
        "    def cast_spell(self, spell_name):\n",
        "        # Print a message indicating which spell was cast\n",
        "        print(f\"{self.name} casts {spell_name}!\")\n",
        "\n",
        "    # Method to simulate the player taking damage\n",
        "    def take_damage(self, damage):\n",
        "        # Subtract 'damage' from the player's health\n",
        "        self.health -= damage\n",
        "        # Check if the player's health is zero or negative\n",
        "        if self.health <= 0:\n",
        "            # If the player's health is zero or negative, print a defeat message\n",
        "            print(f\"{self.name} has been defeated!\")\n",
        "        else:\n",
        "            # If the player's health is still positive, print the damage taken and current health\n",
        "            print(f\"{self.name} took {damage} damage. Current health: {self.health}\")\n",
        "\n",
        "\n",
        "    # Method to simulate the player healing\n",
        "    def heal(self, amount):\n",
        "        # Add 'amount' to the player's health\n",
        "        self.health += amount\n",
        "        # Print a message indicating the healing and the current health\n",
        "        print(f\"{self.name} heals for {amount} health. Current health: {self.health}\")\n",
        "\n",
        "# Create two instances of the Player class with different names\n",
        "player1 = Player(\"Jide\")   # Player 1 is an object\n",
        "player2 = Player(\"Michael\")   # Player 2 is an object\n",
        "\n",
        "# Call the 'run' method for each player, simulating them running\n",
        "player1.run()\n",
        "player2.run()\n",
        "\n",
        "# Call the 'cast_spell' method for each player, simulating them casting spells\n",
        "player1.cast_spell(\"Expelliarmus\")\n",
        "player2.cast_spell(\"Alohomora\")\n",
        "\n",
        "# Call the 'take_damage' method for each player, simulating them taking damage\n",
        "player1.take_damage(30)\n",
        "player2.take_damage(20)\n",
        "\n",
        "# Call the 'heal' method for each player, simulating them healing\n",
        "player1.heal(10)\n",
        "player2.heal(25)\n"
      ]
    },
    {
      "cell_type": "markdown",
      "source": [
        "Now, let's summarize what each part of the code does:\n",
        "\n",
        "1. We define the \"Player\" class, which serves as a blueprint for creating player objects in the game.\n",
        "\n",
        "2. In the constructor (__init__ method), we initialize each player object with a name passed as an argument (name) and set their initial health to 100.\n",
        "\n",
        "3. The run method allows a player to run in the game and prints a message indicating that the player is running.\n",
        "\n",
        "4. The cast_spell method simulates the player casting a spell and prints a message with the name of the spell.\n",
        "\n",
        "5. The take_damage method simulates the player taking damage by subtracting the damage value from their health. It also checks if the player's health has dropped to zero or below and prints appropriate messages.\n",
        "\n",
        "6. The heal method simulates the player healing by adding the specified amount to their health and prints a healing message.\n",
        "\n",
        "7. We create two player objects (player1 and player2) with different names using the \"Player\" class.\n",
        "\n",
        "8. We call various methods on these player objects to simulate their actions in the game, such as running, casting spells, taking damage, and healing."
      ],
      "metadata": {
        "id": "xsUp0lzCqr8R"
      }
    },
    {
      "cell_type": "markdown",
      "source": [
        "Now that we have created a class, we can then create an object."
      ],
      "metadata": {
        "id": "DH4YlHuLq-9g"
      }
    },
    {
      "cell_type": "code",
      "source": [
        "# Define the Player class\n",
        "class Player:\n",
        "    def __init__(self, name):\n",
        "        self.name = name\n",
        "        self.health = 100\n",
        "\n",
        "    def run(self):\n",
        "        print(f\"{self.name} is running in the game.\")\n",
        "\n",
        "# Create an instance of the Player class with the name \"Harry Potter\"\n",
        "player_one = Player(\"Harry Potter\")\n",
        "# Create another instance with the name \"Lord Voldemort\"\n",
        "player_two = Player(\"Lord Voldemort\")\n",
        "\n",
        "# Access and print the names of the players\n",
        "print(player_one.name)\n",
        "print(player_two.name)\n",
        "\n",
        "# Call the 'run' method for each player\n",
        "player_one.run()\n",
        "player_two.run()\n"
      ],
      "metadata": {
        "colab": {
          "base_uri": "https://localhost:8080/"
        },
        "id": "yDNspzlZq-c4",
        "outputId": "154f0fb3-cf4b-423a-a631-4f3232c93926"
      },
      "execution_count": null,
      "outputs": [
        {
          "output_type": "stream",
          "name": "stdout",
          "text": [
            "Harry Potter\n",
            "Lord Voldemort\n",
            "Harry Potter is running in the game.\n",
            "Lord Voldemort is running in the game.\n"
          ]
        }
      ]
    },
    {
      "cell_type": "markdown",
      "source": [
        "Now, let's summarize what each part of the code does:\n",
        "\n",
        "\n",
        "1. We define the \"Player\" class as before.\n",
        "\n",
        "2. We create two instances of the \"Player\" class: player_one and player_two. We pass the names \"Harry Potter\" and \"Lord Voldemort\" as arguments to the class constructor when creating these instances.\n",
        "\n",
        "3. We access and print the name attribute of each player using player_one.name and player_two.name.\n",
        "\n",
        "4. We call the run method for each player, simulating them running in the game."
      ],
      "metadata": {
        "id": "WxPP2XJYrMDT"
      }
    },
    {
      "cell_type": "markdown",
      "source": [
        "## MINI CHALLENGE/QUIZ\n",
        "\n",
        "Add an instance variable \"hp\" (hit points) to the Player class and initialize it to 100.\n",
        "Add a method \"take_damage\" to the Player class that takes in an integer \"damage\" and reduces the player's hit points by that amount.\n",
        "Print out the player's name and remaining hit points after the player takes 20 points of damage."
      ],
      "metadata": {
        "id": "I1dH0-s1rePD"
      }
    },
    {
      "cell_type": "code",
      "source": [
        "# Define the Player class\n",
        "class Player:\n",
        "    def __init__(self, name):\n",
        "        self.name = name  # Initialize the 'name' attribute\n",
        "        self.hp = 100     # Initialize the 'hp' attribute to 100\n",
        "\n",
        "    # Method to take damage\n",
        "    def take_damage(self, damage):\n",
        "        self.hp -= damage  # Reduce hit points by the specified 'damage' amount\n",
        "\n",
        "# Create an instance of the Player class with the name \"Harry Potter\"\n",
        "player_one = Player(\"Harry Potter\")\n",
        "\n",
        "# Print the player's name\n",
        "print(f\"Player name: {player_one.name}\")\n",
        "\n",
        "# Take 20 points of damage using the 'take_damage' method\n",
        "player_one.take_damage(20)\n",
        "\n",
        "# Print the player's remaining hit points\n",
        "print(f\"Remaining hit points: {player_one.hp}\")\n"
      ],
      "metadata": {
        "colab": {
          "base_uri": "https://localhost:8080/"
        },
        "id": "cyT0NIxTrj0f",
        "outputId": "73659558-2f4e-4cf3-a77f-db2a545f06d8"
      },
      "execution_count": null,
      "outputs": [
        {
          "output_type": "stream",
          "name": "stdout",
          "text": [
            "Player name: Harry Potter\n",
            "Remaining hit points: 80\n"
          ]
        }
      ]
    },
    {
      "cell_type": "markdown",
      "source": [
        "Now, let's break down each part of the code:\n",
        "\n",
        "1. We define the \"Player\" class with an __init__ method, which initializes two attributes for each player object: name and hp (hit points). The name is passed as an argument when creating the player instance, and hp is initialized to 100.\n",
        "\n",
        "2. We define a new method called take_damage(self, damage) within the class. This method takes an integer damage as an argument and subtracts it from the player's hit points (self.hp) to simulate taking damage.\n",
        "\n",
        "3. We create an instance of the \"Player\" class with the name \"Harry Potter\" and assign it to the variable player_one.\n",
        "\n",
        "4. We print the player's name using the name attribute.\n",
        "\n",
        "5. We call the take_damage method on player_one and pass 20 as the damage value to simulate the player taking 20 points of damage.\n",
        "\n",
        "6. Finally, we print the player's remaining hit points using the hp attribute."
      ],
      "metadata": {
        "id": "FVz_LemHrmfe"
      }
    },
    {
      "cell_type": "markdown",
      "source": [
        "## ATTRIBUTES\n",
        "\n",
        "An attribute is a characteristic or property of an object. It represents data associated with an object. In your provided example, the \"name\" attribute is defined for the \"Player\" class. When an object of the \"Player\" class is created, this attribute is given a value. Here's an example of how you create a \"Player\" object and set the \"name\" attribute:"
      ],
      "metadata": {
        "id": "Bq6N9Q96r_vh"
      }
    },
    {
      "cell_type": "code",
      "source": [
        "# Create a Player object and set the 'name' attribute\n",
        "player1 = Player(\"John\")\n"
      ],
      "metadata": {
        "id": "9G6uA5W1sMeN"
      },
      "execution_count": null,
      "outputs": []
    },
    {
      "cell_type": "markdown",
      "source": [
        "In this example, you create a \"Player\" object named \"player1\" and set its \"name\" attribute to \"John.\" The \"name\" attribute stores information about the player's name."
      ],
      "metadata": {
        "id": "IIV4a31NsOUe"
      }
    },
    {
      "cell_type": "markdown",
      "source": [
        "## METHODS\n",
        "\n",
        "A method is a function that is associated with an object and can be used to perform actions on that object. In the context of object-oriented programming (OOP), methods are defined within classes and can operate on the attributes and data associated with instances (objects) of that class."
      ],
      "metadata": {
        "id": "DnI1lC3asc8R"
      }
    },
    {
      "cell_type": "code",
      "source": [
        "# Method Definition\n",
        "\n",
        "def run(self):\n",
        "    print(f\"{self.name} is running in the game.\")\n"
      ],
      "metadata": {
        "id": "9hPfn9ftskg0"
      },
      "execution_count": null,
      "outputs": []
    },
    {
      "cell_type": "markdown",
      "source": [
        "1. The method is named \"run.\"\n",
        "2. It takes one parameter, \"self,\" which refers to the instance of the class itself (the specific player object).\n",
        "3. Inside the method, it uses the \"self.name\" attribute to access the player's name and includes it in the print statement."
      ],
      "metadata": {
        "id": "m0zILs3ismPq"
      }
    },
    {
      "cell_type": "code",
      "source": [
        "# Method Invocation\n",
        "\n",
        "player_one = Player(\"John\")\n",
        "player_one.run()\n"
      ],
      "metadata": {
        "colab": {
          "base_uri": "https://localhost:8080/",
          "height": 214
        },
        "id": "SYsKSIAgtYvQ",
        "outputId": "a7911138-52df-413f-b872-286cb2f8f1d9"
      },
      "execution_count": null,
      "outputs": [
        {
          "output_type": "error",
          "ename": "AttributeError",
          "evalue": "ignored",
          "traceback": [
            "\u001b[0;31m---------------------------------------------------------------------------\u001b[0m",
            "\u001b[0;31mAttributeError\u001b[0m                            Traceback (most recent call last)",
            "\u001b[0;32m<ipython-input-7-76e93a44462d>\u001b[0m in \u001b[0;36m<cell line: 4>\u001b[0;34m()\u001b[0m\n\u001b[1;32m      2\u001b[0m \u001b[0;34m\u001b[0m\u001b[0m\n\u001b[1;32m      3\u001b[0m \u001b[0mplayer_one\u001b[0m \u001b[0;34m=\u001b[0m \u001b[0mPlayer\u001b[0m\u001b[0;34m(\u001b[0m\u001b[0;34m\"John\"\u001b[0m\u001b[0;34m)\u001b[0m\u001b[0;34m\u001b[0m\u001b[0;34m\u001b[0m\u001b[0m\n\u001b[0;32m----> 4\u001b[0;31m \u001b[0mplayer_one\u001b[0m\u001b[0;34m.\u001b[0m\u001b[0mrun\u001b[0m\u001b[0;34m(\u001b[0m\u001b[0;34m)\u001b[0m\u001b[0;34m\u001b[0m\u001b[0;34m\u001b[0m\u001b[0m\n\u001b[0m",
            "\u001b[0;31mAttributeError\u001b[0m: 'Player' object has no attribute 'run'"
          ]
        }
      ]
    },
    {
      "cell_type": "markdown",
      "source": [
        "1. First, you create a \"Player\" object named \"player1\" with the name \"John.\"\n",
        "2. Then, you call the \"run\" method on the \"player1\" object.\n",
        "3. The method executes and prints the message, which includes the player's name: \"John is running in the game.\""
      ],
      "metadata": {
        "id": "tDRAbCtqtgSc"
      }
    },
    {
      "cell_type": "markdown",
      "source": [
        "Methods can also take parameters (inputs) and return values (outputs), but in your provided example, the \"run\" method does not have any parameters or return values. It simply performs an action (printing a message)."
      ],
      "metadata": {
        "id": "YBI5D0p_tsr6"
      }
    },
    {
      "cell_type": "markdown",
      "source": [
        "## THE FOUR PILLARS OF OOP\n",
        "\n",
        "1. Encapsulations\n",
        "2. Abstraction\n",
        "3. Inheritance\n",
        "4. Polymorphism\n",
        "\n",
        "\n",
        "Encapsulation is one of the four fundamental pillars of OOP, and it refers to the bundling of data(attributes) and the methods(functions) that operare on that data into a single unit called an object. The key idea is to encapsulate or enclose the data and methods related to an entity or concept into a single cohesive unit.\n",
        "\n",
        "Some benefits in encapsulation:\n",
        "\n",
        "1. Data Hiding: It allows you to hide the internal implementation details of an object from external code. From the example on the platform, the attributes `name` and `age` are encapsulated within the `Player` class. External code can access them only through the defined methods (`run` and `speak`), making it easier to control and protect the data.\n",
        "\n",
        "2. Code Organization: Encapsulation organizes code logically. Data and methods that are closely related are grouped together within the same class, making the code more maintainable and readable.\n",
        "\n",
        "3. Modularity: Objects encapsulate their functionality, making it easier to reuse code in different parts of a program or in different programs altogether.\n",
        "\n",
        "4. Security: Encapsulation can provide a level of security by controlling access to data. You can define access control (e.g., public, private, protected) to restrict or allow access to specific attributes or methods."
      ],
      "metadata": {
        "id": "pdzJqP5ygI7J"
      }
    },
    {
      "cell_type": "code",
      "source": [
        "# Encapsulation with a Car Class\n",
        "\n",
        "class Car:\n",
        "    def __init__(self, make, model):   # Defining the constructor\n",
        "        self.make = make  # Public attribute\n",
        "        self.model = model  # Public attribute\n",
        "        self.__speed = 0  # Private attribute (note the double underscores)\n",
        "\n",
        "    def accelerate(self, increment):\n",
        "        self.__speed += increment\n",
        "\n",
        "    def brake(self, decrement):\n",
        "        self.__speed -= decrement\n",
        "\n",
        "    def get_speed(self):\n",
        "        return self.__speed  # Get method for the private attribute\n",
        "\n",
        "# Create a car object\n",
        "my_car = Car(\"Toyota\", \"Camry\")\n",
        "\n",
        "# Access public attributes\n",
        "print(f\"Make: {my_car.make}, Model: {my_car.model}\")\n",
        "\n",
        "# Use methods to manipulate and access private attribute\n",
        "my_car.accelerate(20)\n",
        "my_car.brake(5)\n",
        "print(f\"Current Speed: {my_car.get_speed()}\")\n"
      ],
      "metadata": {
        "id": "UdMIWG88tvXt"
      },
      "execution_count": null,
      "outputs": []
    },
    {
      "cell_type": "markdown",
      "source": [
        "From the lines of code below:\n",
        "\n",
        "* The Car class encapsulates data(make, moel, and speed) and methods(accelerate, brake, and get_speed).\n",
        "\n",
        "* __speed is a private attribute, denoted by double underscores, which can only be accessed or modified through methods.\n",
        "\n",
        "Let's look at another example on encapsulation.\n",
        "\n",
        "In this case, we will try to define a bank account class and see how encapsulation can be implemented in this context."
      ],
      "metadata": {
        "id": "jVW_BglJktm9"
      }
    },
    {
      "cell_type": "code",
      "source": [
        "# Encapsulation with a bank account class\n",
        "\n",
        "class BankAccount:\n",
        "    def __init__(self, account_holder, initial_balance=0):\n",
        "        self.account_holder = account_holder  # Public attribute\n",
        "        self.__balance = initial_balance  # Private attribute\n",
        "\n",
        "    def deposit(self, amount):\n",
        "        self.__balance += amount\n",
        "\n",
        "    def withdraw(self, amount):\n",
        "        if amount <= self.__balance:\n",
        "            self.__balance -= amount\n",
        "        else:\n",
        "            print(\"Insufficient funds!\")\n",
        "\n",
        "    def get_balance(self):\n",
        "        return self.__balance  # Getter method for the private attribute\n",
        "\n",
        "# Create a bank account object\n",
        "my_account = BankAccount(\"Alice\", 1000)\n",
        "\n",
        "# Access public attributes\n",
        "print(f\"Account Holder: {my_account.account_holder}\")\n",
        "\n",
        "# Use methods to manipulate and access private attribute\n",
        "my_account.deposit(500)\n",
        "my_account.withdraw(200)\n",
        "print(f\"Current Balance: ${my_account.get_balance()}\")\n"
      ],
      "metadata": {
        "id": "TUQbtmAEktOj"
      },
      "execution_count": null,
      "outputs": []
    },
    {
      "cell_type": "markdown",
      "source": [
        "* The bank account class encapsulates data(account holder and balance) and methods(deposit, withdraw, and get_balance)."
      ],
      "metadata": {
        "id": "LWOU7asfl4s_"
      }
    },
    {
      "cell_type": "markdown",
      "source": [
        "### ABSTRACTION"
      ],
      "metadata": {
        "id": "24cgLmKTnc3u"
      }
    },
    {
      "cell_type": "code",
      "source": [
        "# Abstraction with a Vehicle class\n",
        "\n",
        "class Vehicle:\n",
        "    def __init__(self, make, model):\n",
        "        self.make = make\n",
        "        self.model = model\n",
        "\n",
        "    def start(self):\n",
        "        pass  # Abstract method, specific implementation is not provided in the base class\n",
        "\n",
        "    def stop(self):\n",
        "        pass  # Abstract method, specific implementation is not provided in the base class\n",
        "\n",
        "class Car(Vehicle):\n",
        "    def start(self):\n",
        "        print(f\"{self.make} {self.model} engine started\")\n",
        "\n",
        "    def stop(self):\n",
        "        print(f\"{self.make} {self.model} engine stopped\")\n",
        "\n",
        "class Motorcycle(Vehicle):\n",
        "    def start(self):\n",
        "        print(f\"{self.make} {self.model} engine started\")\n",
        "\n",
        "    def stop(self):\n",
        "        print(f\"{self.make} {self.model} engine stopped\")\n",
        "\n",
        "# Creating objects and invoking methods\n",
        "my_car = Car(\"Toyota\", \"Camry\")\n",
        "my_motorcycle = Motorcycle(\"Honda\", \"CBR\")\n",
        "\n",
        "my_car.start()    # Abstraction: The user doesn't need to know how 'start' is implemented for each vehicle type.\n",
        "my_car.stop()\n",
        "\n",
        "my_motorcycle.start()\n",
        "my_motorcycle.stop()\n"
      ],
      "metadata": {
        "id": "7HMDxD9ApHlq"
      },
      "execution_count": null,
      "outputs": []
    },
    {
      "cell_type": "markdown",
      "source": [
        "From the above lines of code:\n",
        "\n",
        "* The base class, vehicle defines abstract methods `start` and  `stop`. These methods are intended to be overriden by subclasses but do not provide a specific implementation.\n",
        "\n",
        "* Subclasses(car and motorcycle) inherit from vehicle and provide their own implementations of `start` and `stop`. Users of these subclasses can call these methods without knowing the internal details of how each vehicle starts or stops."
      ],
      "metadata": {
        "id": "4SrTXgCwrnJ3"
      }
    },
    {
      "cell_type": "code",
      "source": [
        "# Abstraction with a shape class\n",
        "\n",
        "from abc import ABC, abstractmethod  # Using the 'abc' module for abstract base classes\n",
        "\n",
        "class Shape(ABC):  # Shape is an abstract base class\n",
        "    @abstractmethod\n",
        "    def area(self):\n",
        "        pass  # Abstract method, specific implementation is not provided\n",
        "\n",
        "class Circle(Shape):\n",
        "    def __init__(self, radius):\n",
        "        self.radius = radius\n",
        "\n",
        "    def area(self):\n",
        "        return 3.14 * self.radius * self.radius\n",
        "\n",
        "class Rectangle(Shape):\n",
        "    def __init__(self, length, width):\n",
        "        self.length = length\n",
        "        self.width = width\n",
        "\n",
        "    def area(self):\n",
        "        return self.length * self.width\n",
        "\n",
        "# Creating objects and invoking methods\n",
        "circle = Circle(5)\n",
        "rectangle = Rectangle(4, 6)\n",
        "\n",
        "print(f\"Circle Area: {circle.area()}\")       # Abstraction: Users can calculate the area without knowing the formula.\n",
        "print(f\"Rectangle Area: {rectangle.area()}\")\n"
      ],
      "metadata": {
        "id": "qmpvrFs0sRyj"
      },
      "execution_count": null,
      "outputs": []
    },
    {
      "cell_type": "markdown",
      "source": [
        "From the lines of code above:\n",
        "\n",
        "* The shape class is an abstract base class with an abstract method area. It defines a method signature that subclasses must implement.\n",
        "\n",
        "* Subclasses(circle and rectangle) inherit from shape and provide concrete implementations of the area method. Users can calculate the area of different shapes without needing to know the specific formula.\n",
        "\n"
      ],
      "metadata": {
        "id": "QJZo_cMLsX8G"
      }
    },
    {
      "cell_type": "markdown",
      "source": [
        "### INHERITANCE"
      ],
      "metadata": {
        "id": "u8lVgKvst2yn"
      }
    },
    {
      "cell_type": "code",
      "source": [
        "# Inheritance with a parent and child class\n",
        "\n",
        "\n",
        "class Animal:              # Parent class (or base class)\n",
        "    def __init__(self, name):\n",
        "        self.name = name\n",
        "\n",
        "    def speak(self):\n",
        "        pass  # Abstract method, specific implementation is not provided in the base class\n",
        "\n",
        "# Child class (or derived class) inheriting from Animal\n",
        "class Dog(Animal):\n",
        "    def speak(self):\n",
        "        return f\"{self.name} says Woof!\"\n",
        "\n",
        "# Another child class inheriting from Animal\n",
        "class Cat(Animal):\n",
        "    def speak(self):\n",
        "        return f\"{self.name} says Meow!\"\n",
        "\n",
        "# Creating objects and invoking methods\n",
        "dog = Dog(\"Buddy\")\n",
        "cat = Cat(\"Whiskers\")\n",
        "\n",
        "print(dog.speak())  # Inherited 'speak' method from Animal class but overridden in Dog class\n",
        "print(cat.speak())  # Inherited 'speak' method from Animal class but overridden in Cat class\n"
      ],
      "metadata": {
        "id": "5XaF5VTst7RX"
      },
      "execution_count": null,
      "outputs": []
    },
    {
      "cell_type": "markdown",
      "source": [
        "* The parent class, Animal defines a constructor to initialize a name and an abstract method `speak`, which will be overridden by subclasses.\n",
        "\n",
        "* Child classes dog and cat inherit from the animal class and provide their own implementations of the `speak` method. This demonstrates method overriding.\n",
        "\n",
        "* Instances of dog and cat can be created, and they inherit attributes and methods from the animal class.\n",
        "\n",
        "PS: The dog and cat instances override the `speak` method to provide their specific behavior."
      ],
      "metadata": {
        "id": "yfMDMgczxxU-"
      }
    },
    {
      "cell_type": "code",
      "source": [
        "# Inheritance with a shape hierarchy\n",
        "\n",
        "class Shape:\n",
        "    def __init__(self, color):\n",
        "        self.color = color\n",
        "\n",
        "    def area(self):\n",
        "        pass  # Abstract method, specific implementation is not provided in the base class\n",
        "\n",
        "# Child class Circle inheriting from Shape\n",
        "class Circle(Shape):\n",
        "    def __init__(self, color, radius):\n",
        "        super().__init__(color)\n",
        "        self.radius = radius\n",
        "\n",
        "    def area(self):\n",
        "        return 3.14 * self.radius * self.radius\n",
        "\n",
        "# Child class Rectangle inheriting from Shape\n",
        "class Rectangle(Shape):\n",
        "    def __init__(self, color, length, width):\n",
        "        super().__init__(color)\n",
        "        self.length = length\n",
        "        self.width = width\n",
        "\n",
        "    def area(self):\n",
        "        return self.length * self.width\n",
        "\n",
        "# Creating objects and invoking methods\n",
        "circle = Circle(\"Red\", 5)\n",
        "rectangle = Rectangle(\"Blue\", 4, 6)\n",
        "\n",
        "print(f\"Circle Area: {circle.area()}\")       # Inherited 'area' method from Shape class but overridden in Circle class\n",
        "print(f\"Rectangle Area: {rectangle.area()}\")  # Inherited 'area' method from Shape class but overridden in Rectangle class\n"
      ],
      "metadata": {
        "id": "oeNtSXrh0Xpc"
      },
      "execution_count": null,
      "outputs": []
    },
    {
      "cell_type": "markdown",
      "source": [
        "* The parent class, Shape defines a constructor to initiallize a color and an abstract method `area`.\n",
        "\n",
        "* Child classes circle and rectangle inherit from shape and provide their own implementations of the `area` method from the shape class but override the `area` method to provide specific calculations for their shapes.\n",
        "\n"
      ],
      "metadata": {
        "id": "6YdeD7-V0gi4"
      }
    },
    {
      "cell_type": "markdown",
      "source": [
        "### POLYMORPHISM\n",
        "\n",
        "The last pillar of OOP."
      ],
      "metadata": {
        "id": "T5Sj16fW1efC"
      }
    },
    {
      "cell_type": "code",
      "source": [
        "# Define a common interface (abstract base class)\n",
        "class Shape:\n",
        "    def area(self):\n",
        "        pass  # Abstract method, specific implementation is not provided\n",
        "\n",
        "# Implementing different shapes using the common interface\n",
        "class Circle(Shape):\n",
        "    def __init__(self, radius):\n",
        "        self.radius = radius\n",
        "\n",
        "    def area(self):\n",
        "        return 3.14 * self.radius * self.radius\n",
        "\n",
        "class Rectangle(Shape):\n",
        "    def __init__(self, length, width):\n",
        "        self.length = length\n",
        "        self.width = width\n",
        "\n",
        "    def area(self):\n",
        "        return self.length * self.width\n",
        "\n",
        "# Function that calculates the area of any shape that adheres to the Shape interface\n",
        "def calculate_area(shape):\n",
        "    return shape.area()\n",
        "\n",
        "# Create instances of different shapes\n",
        "circle = Circle(5)\n",
        "rectangle = Rectangle(4, 6)\n",
        "\n",
        "# Calculate the areas using polymorphism\n",
        "print(f\"Circle Area: {calculate_area(circle)}\")       # Polymorphism: Calculate the area of a Circle object\n",
        "print(f\"Rectangle Area: {calculate_area(rectangle)}\")  # Polymorphism: Calculate the area of a Rectangle object\n"
      ],
      "metadata": {
        "id": "ad8ETXyO1lFG"
      },
      "execution_count": null,
      "outputs": []
    },
    {
      "cell_type": "markdown",
      "source": [
        "* The shape class defines a common interface with an abstract method `area`.\n",
        "\n",
        "* Child classes circle and rectangle implement the shape interface by providing their own implementations of the `area` method.\n",
        "\n",
        "* The `calculate_area` function takes a shape object as an argument and calculates its area using polymorphism. It doesn't need to know the specific type of shape it's working with.\n",
        "\n"
      ],
      "metadata": {
        "id": "SEwAjHiA8qgW"
      }
    },
    {
      "cell_type": "code",
      "source": [
        "# Define a common base class\n",
        "class Animal:\n",
        "    def __init__(self, name):\n",
        "        self.name = name\n",
        "\n",
        "    def speak(self):\n",
        "        pass  # Abstract method, specific implementation is not provided\n",
        "\n",
        "# Implementing different animals using the common base class\n",
        "class Dog(Animal):\n",
        "    def speak(self):\n",
        "        return f\"{self.name} says Woof!\"\n",
        "\n",
        "class Cat(Animal):\n",
        "    def speak(self):\n",
        "        return f\"{self.name} says Meow!\"\n",
        "\n",
        "# Function that makes any animal speak using polymorphism\n",
        "def make_animal_speak(animal):\n",
        "    return animal.speak()\n",
        "\n",
        "# Create instances of different animals\n",
        "dog = Dog(\"Buddy\")\n",
        "cat = Cat(\"Whiskers\")\n",
        "\n",
        "# Make the animals speak using polymorphism\n",
        "print(make_animal_speak(dog))  # Polymorphism: Make a Dog speak\n",
        "print(make_animal_speak(cat))  # Polymorphism: Make a Cat speak\n"
      ],
      "metadata": {
        "id": "e04jx7sg9Ndr"
      },
      "execution_count": null,
      "outputs": []
    },
    {
      "cell_type": "markdown",
      "source": [
        "* The animal class defines a common base class with an abstract method `speak`.\n",
        "\n",
        "* Child classes dog and cat inherit from animal and provide their own implementations of the `speak` method.\n",
        "\n",
        "* The `make_animal_speak` function takes and animal object as an argument and makes it speak using polymorphism. It works for any object that is an animal."
      ],
      "metadata": {
        "id": "ZyY6pP3T_3-9"
      }
    },
    {
      "cell_type": "code",
      "source": [],
      "metadata": {
        "id": "YUZl1Gj8AWBd"
      },
      "execution_count": null,
      "outputs": []
    }
  ]
}